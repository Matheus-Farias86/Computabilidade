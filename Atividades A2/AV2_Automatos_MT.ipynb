{
  "nbformat": 4,
  "nbformat_minor": 0,
  "metadata": {
    "colab": {
      "provenance": []
    },
    "kernelspec": {
      "name": "python3",
      "display_name": "Python 3"
    },
    "language_info": {
      "name": "python"
    }
  },
  "cells": [
    {
      "cell_type": "markdown",
      "source": [
        "<h1>Atividade AV2</h1>\n",
        "Grupo: José Matheus, Márcio Souto e Milena Soares."
      ],
      "metadata": {
        "id": "SjOPFSXCxStZ"
      }
    },
    {
      "cell_type": "markdown",
      "source": [
        "<h1>AFD"
      ],
      "metadata": {
        "id": "3TblH9hMDgYI"
      }
    },
    {
      "cell_type": "markdown",
      "source": [
        "# 1 Reconhecimento de DNA válido usando AFD\n",
        "- Um AFD pode ser usado para validar sequências de DNA. Uma sequência de DNA válida consiste apenas nos nucleotídeos representados pelas letras A, T, C, e G.\n",
        "\n",
        "- Regras:\n",
        "- A sequência deve conter apenas as letras A, T, C, ou G.\n",
        "- Qualquer outro caractere, como números ou letras fora do alfabeto de nucleotídeos, invalida a sequência.\n",
        "- Pode validar sequências específicas, como se começa com A e termina com T"
      ],
      "metadata": {
        "id": "dLOZz7yr4imA"
      }
    },
    {
      "cell_type": "code",
      "source": [
        "class AFD:\n",
        "    def __init__(self):\n",
        "        # Estados e transições para validar DNA\n",
        "        self.states = ['q0', 'q1', 'q_reject']\n",
        "        self.alphabet = ['A', 'T', 'C', 'G']\n",
        "        self.transitions = {\n",
        "            ('q0', 'A'): 'q1',\n",
        "            ('q0', 'T'): 'q1',\n",
        "            ('q0', 'C'): 'q1',\n",
        "            ('q0', 'G'): 'q1',\n",
        "            ('q1', 'A'): 'q1',\n",
        "            ('q1', 'T'): 'q1',\n",
        "            ('q1', 'C'): 'q1',\n",
        "            ('q1', 'G'): 'q1',\n",
        "        }\n",
        "        self.initial_state = 'q0'\n",
        "        self.accept_states = ['q1']\n",
        "\n",
        "    def simulate(self, input_string):\n",
        "        current_state = self.initial_state\n",
        "        for symbol in input_string:\n",
        "            if (current_state, symbol) in self.transitions:\n",
        "                current_state = self.transitions[(current_state, symbol)]\n",
        "            else:\n",
        "                return False  # Rejeitado se encontrar símbolo inválido\n",
        "        return current_state in self.accept_states\n",
        "\n",
        "\n",
        "# Exemplo de uso\n",
        "afd = AFD()\n",
        "while True:\n",
        "    dna_sequence = input(\"Digite uma sequência de DNA para validar (ou 'sair' para encerrar): \").upper()\n",
        "    if dna_sequence == 'SAIR':\n",
        "        break\n",
        "    if afd.simulate(dna_sequence):\n",
        "        print(\"Sequência válida.\")\n",
        "    else:\n",
        "        print(\"Sequência inválida.\")\n"
      ],
      "metadata": {
        "colab": {
          "base_uri": "https://localhost:8080/"
        },
        "id": "scSqVzeB4jHI",
        "outputId": "de766808-76f7-42e1-ee32-4258442f4f00"
      },
      "execution_count": null,
      "outputs": [
        {
          "name": "stdout",
          "output_type": "stream",
          "text": [
            "Digite uma sequência de DNA para validar (ou 'sair' para encerrar): AT CG\n",
            "Sequência inválida.\n",
            "Digite uma sequência de DNA para validar (ou 'sair' para encerrar): ATCG\n",
            "Sequência válida.\n",
            "Digite uma sequência de DNA para validar (ou 'sair' para encerrar): AGCG\n",
            "Sequência válida.\n",
            "Digite uma sequência de DNA para validar (ou 'sair' para encerrar): ATCG\n",
            "Sequência válida.\n",
            "Digite uma sequência de DNA para validar (ou 'sair' para encerrar): ACGG\n",
            "Sequência válida.\n",
            "Digite uma sequência de DNA para validar (ou 'sair' para encerrar): AGCG\n",
            "Sequência válida.\n",
            "Digite uma sequência de DNA para validar (ou 'sair' para encerrar): AHGS\n",
            "Sequência inválida.\n",
            "Digite uma sequência de DNA para validar (ou 'sair' para encerrar): SAIR\n"
          ]
        }
      ]
    },
    {
      "cell_type": "markdown",
      "source": [
        "#2 Verificação de senhas fortes\n"
      ],
      "metadata": {
        "id": "HFm-Ztpj5X6u"
      }
    },
    {
      "cell_type": "markdown",
      "source": [
        "#Explicação do Funcionamento\n",
        "#Estados:\n",
        "\n",
        "- q0: Estado inicial (antes de qualquer entrada).\n",
        "- q1: Recebeu uma letra maiúscula inicial.\n",
        "- q2: Contém pelo menos um número.\n",
        "- q3: Contém uma combinação válida (aceitação).\n",
        "- q_reject: Estado de rejeição (quando encontra caracteres inválidos ou espaços).\n",
        "\n",
        "#Alfabeto:\n",
        "\n",
        "- Inclui letras maiúsculas, minúsculas, números e caracteres especiais.\n",
        "- Exclui espaços e tabulações.\n",
        "Transições:\n",
        "\n",
        "- q0 aceita apenas letras maiúsculas para ir a q1.\n",
        "- q1 aceita qualquer letra, número ou caractere especial, mas muda para q2 ao encontrar um número.\n",
        "- q2 e q3 continuam aceitando caracteres válidos até completar a cadeia.\n",
        "Validação:\n",
        "\n",
        "- Se a senha atende às regras (começa com maiúscula, contém números, não tem espaços), ela é aceita.\n",
        "Caso contrário, é rejeitada.\n"
      ],
      "metadata": {
        "id": "vNbEU2q26Pqo"
      }
    },
    {
      "cell_type": "code",
      "source": [
        "class AFD:\n",
        "    def __init__(self):\n",
        "        self.states = []\n",
        "        self.alphabet = []\n",
        "        self.transitions = {}\n",
        "        self.initial_state = None\n",
        "        self.accept_states = []\n",
        "\n",
        "    def configure(self):\n",
        "        # Definição dos estados\n",
        "        self.states = [\"q0\", \"q1\", \"q2\", \"q3\", \"q_reject\"]\n",
        "        self.initial_state = \"q0\"\n",
        "        self.accept_states = [\"q3\"]\n",
        "\n",
        "        # Alfabeto válido\n",
        "        self.alphabet = [chr(c) for c in range(65, 91)]  # Letras maiúsculas\n",
        "        self.alphabet += [chr(c) for c in range(97, 123)]  # Letras minúsculas\n",
        "        self.alphabet += [chr(c) for c in range(48, 58)]  # Números (0-9)\n",
        "        self.alphabet += list(\"!@#$%^&*()-_=+[]{}|;:',.<>?/\")  # Caracteres especiais\n",
        "\n",
        "        # Transições\n",
        "        for char in self.alphabet:\n",
        "            if char.isupper():  # Primeira letra deve ser maiúscula\n",
        "                self.transitions[(\"q0\", char)] = \"q1\"\n",
        "            elif char.isdigit():\n",
        "                self.transitions[(\"q1\", char)] = \"q2\"\n",
        "                self.transitions[(\"q2\", char)] = \"q2\"\n",
        "                self.transitions[(\"q3\", char)] = \"q3\"\n",
        "            elif char in \"!@#$%^&*()-_=+[]{}|;:',.<>?/\":\n",
        "                self.transitions[(\"q1\", char)] = \"q3\"\n",
        "                self.transitions[(\"q2\", char)] = \"q3\"\n",
        "                self.transitions[(\"q3\", char)] = \"q3\"\n",
        "            elif char.islower():\n",
        "                self.transitions[(\"q1\", char)] = \"q1\"\n",
        "                self.transitions[(\"q2\", char)] = \"q2\"\n",
        "                self.transitions[(\"q3\", char)] = \"q3\"\n",
        "\n",
        "        # Transições de rejeição (caracteres inválidos ou espaço)\n",
        "        for char in \" \\t\\n\":\n",
        "            self.transitions[(\"q0\", char)] = \"q_reject\"\n",
        "            self.transitions[(\"q1\", char)] = \"q_reject\"\n",
        "            self.transitions[(\"q2\", char)] = \"q_reject\"\n",
        "            self.transitions[(\"q3\", char)] = \"q_reject\"\n",
        "\n",
        "    def simulate(self, input_string):\n",
        "        current_state = self.initial_state\n",
        "        for symbol in input_string:\n",
        "            if (current_state, symbol) in self.transitions:\n",
        "                current_state = self.transitions[(current_state, symbol)]\n",
        "            else:\n",
        "                return False\n",
        "        return current_state in self.accept_states\n",
        "\n",
        "\n",
        "# Criando e configurando o AFD\n",
        "afd = AFD()\n",
        "afd.configure()\n",
        "\n",
        "# Testando strings\n",
        "while True:\n",
        "    password = input(\"Digite uma senha para validar (ou 'sair' para encerrar): \")\n",
        "    if password.lower() == \"sair\":\n",
        "        break\n",
        "    if afd.simulate(password):\n",
        "        print(\"Senha aceita.\")\n",
        "    else:\n",
        "        print(\"Senha rejeitada.\")\n"
      ],
      "metadata": {
        "colab": {
          "base_uri": "https://localhost:8080/"
        },
        "id": "NvPhOQUN4tei",
        "outputId": "1056b739-453b-4bc8-d3c3-1c81e76ca976"
      },
      "execution_count": null,
      "outputs": [
        {
          "name": "stdout",
          "output_type": "stream",
          "text": [
            "Digite uma senha para validar (ou 'sair' para encerrar): sair\n"
          ]
        }
      ]
    },
    {
      "cell_type": "markdown",
      "source": [
        "# 3 - Validação de URL\n",
        "- Validações simples para URLs que começam com http ou https, têm \"://\", e incluem ao menos um domínio."
      ],
      "metadata": {
        "id": "P_lorZdN7BA3"
      }
    },
    {
      "cell_type": "code",
      "source": [
        "class AFDURL:\n",
        "    def __init__(self):\n",
        "        # Estados do autômato\n",
        "        self.states = [\"q0\", \"q1\", \"q2\", \"q3\"]\n",
        "        self.initial_state = \"q0\"  # Estado inicial\n",
        "        self.final_state = \"q3\"   # Estado final\n",
        "        # Transições definindo as regras de validação\n",
        "        self.transitions = {\n",
        "            (\"q0\", \"http\"): \"q1\",    # Do estado q0, \"http\" leva para q1\n",
        "            (\"q1\", \"://\"): \"q2\",    # Do estado q1, \"://\" leva para q2\n",
        "            (\"q2\", \"domain\"): \"q3\", # Do estado q2, um domínio leva para q3\n",
        "        }\n",
        "\n",
        "    def validate(self, url):\n",
        "        # Dividimos a validação em etapas\n",
        "        if url.startswith(\"http://\") or url.startswith(\"https://\"):\n",
        "            # O domínio é a parte que vem após \"://\"\n",
        "            domain = url.split(\"://\")[-1]\n",
        "            if \".\" in domain:  # Checa se o domínio contém pelo menos um \".\"\n",
        "                return True\n",
        "        return False\n",
        "\n",
        "\n",
        "# Criando a instância do autômato\n",
        "afd_url = AFDURL()\n",
        "\n",
        "# Loop para entrada de URLs\n",
        "while True:\n",
        "    user_input = input(\"Digite a URL para validar (ou 'sair' para encerrar): \")\n",
        "    if user_input.lower() == \"sair\":\n",
        "        print(\"Encerrando o programa. Até mais!\")\n",
        "        break  # Sai do loop\n",
        "    if afd_url.validate(user_input):\n",
        "        print(\"URL válida!\")\n",
        "    else:\n",
        "        print(\"URL inválida!\")\n"
      ],
      "metadata": {
        "colab": {
          "base_uri": "https://localhost:8080/"
        },
        "id": "EDBrxu3K7EBt",
        "outputId": "6b681eca-83c5-4959-e32a-2adc6373b952"
      },
      "execution_count": null,
      "outputs": [
        {
          "output_type": "stream",
          "name": "stdout",
          "text": [
            "Digite a URL para validar (ou 'sair' para encerrar): https://google.com\n",
            "URL válida!\n",
            "Digite a URL para validar (ou 'sair' para encerrar): google.com\n",
            "URL inválida!\n",
            "Digite a URL para validar (ou 'sair' para encerrar): sair\n",
            "Encerrando o programa. Até mais!\n"
          ]
        }
      ]
    },
    {
      "cell_type": "markdown",
      "source": [
        "# 4 - o número deve começar com o dígito \"9\"\n",
        "\n",
        "\n",
        "- q0: Estado inicial, onde o número começa a ser processado.\n",
        "- q1: Estado intermediário, alcançado ao ler o primeiro dígito \"9\".\n",
        "- q_accept: Estado de aceitação, que representa números válidos.\n",
        " - q_reject: Estado de rejeição, que indica números inválidos.\n",
        "Alfabeto\n",
        "\n",
        "Todos os dígitos de 0 a 9.\n",
        "Transições\n",
        "As transições definem como o autômato muda de estado com base no dígito atual:\n",
        "\n",
        "- Do estado q0:\n",
        "- Se o dígito for \"9\", vai para o estado q1.\n",
        "- Se o dígito for qualquer outro, vai para q_reject.\n",
        "- Do estado q1:\n",
        "- Qualquer dígito leva para o estado q_accept.\n",
        "- Do estado q_accept:\n",
        "Permanece em q_accept ao ler qualquer dígito.\n",
        "- Do estado q_reject:\n",
        "Permanece em q_reject ao ler qualquer dígito.\n",
        "Estado Inicial e Estados de Aceitação\n",
        "\n",
        "- O autômato começa em q0.\n",
        "Apenas o estado q_accept é considerado um estado de aceitação."
      ],
      "metadata": {
        "id": "ykn_RBR18h2w"
      }
    },
    {
      "cell_type": "markdown",
      "source": [
        "# Funcionamento do Método simulate\n",
        "\n",
        "- Inicia no estado inicial (q0).\n",
        "- Percorre os dígitos do número de telefone informado.\n",
        "- Para cada dígito:\n",
        "- Verifica a transição correspondente (estado atual + dígito).\n",
        "- Move para o próximo estado com base na transição.\n",
        "- Após processar todos os dígitos:\n",
        "- Retorna True se o estado final for de aceitação (q_accept).\n",
        "- Retorna False caso contrário."
      ],
      "metadata": {
        "id": "7UUVukqG9Chm"
      }
    },
    {
      "cell_type": "code",
      "source": [
        "class AFD:\n",
        "    def __init__(self):\n",
        "        self.states = [\"q0\", \"q1\", \"q_accept\", \"q_reject\"]  # Estados\n",
        "        self.alphabet = [str(i) for i in range(10)]  # Alfabeto: dígitos de 0 a 9\n",
        "        self.transitions = {\n",
        "            (\"q0\", \"9\"): \"q1\",  # Se o primeiro dígito for 9, vai para q1\n",
        "        }\n",
        "        for digit in self.alphabet:\n",
        "            if digit != \"9\":\n",
        "                self.transitions[(\"q0\", digit)] = \"q_reject\"  # Qualquer outro no início rejeita\n",
        "            self.transitions[(\"q1\", digit)] = \"q_accept\"  # Depois de q1, aceita qualquer dígito\n",
        "            self.transitions[(\"q_accept\", digit)] = \"q_accept\"  # Permanece em q_accept\n",
        "            self.transitions[(\"q_reject\", digit)] = \"q_reject\"  # Permanece em q_reject\n",
        "\n",
        "        self.initial_state = \"q0\"  # Estado inicial\n",
        "        self.accept_states = [\"q_accept\"]  # Estado de aceitação\n",
        "\n",
        "    def simulate(self, phone_number):\n",
        "        current_state = self.initial_state\n",
        "        for digit in phone_number:\n",
        "            if (current_state, digit) in self.transitions:\n",
        "                current_state = self.transitions[(current_state, digit)]\n",
        "            else:\n",
        "                return False\n",
        "        return current_state in self.accept_states\n",
        "\n",
        "\n",
        "# Teste do autômato\n",
        "afd = AFD()\n",
        "\n",
        "while True:\n",
        "    phone_number = input(\"Digite um número de telefone para testar (ou 'sair' para encerrar): \")\n",
        "    if phone_number.lower() == \"sair\":\n",
        "        break\n",
        "    if afd.simulate(phone_number):\n",
        "        print(f\"O número {phone_number} foi Aceito!\")\n",
        "    else:\n",
        "        print(f\"O número {phone_number} foi Rejeitado!\")\n",
        "\n"
      ],
      "metadata": {
        "colab": {
          "base_uri": "https://localhost:8080/"
        },
        "id": "_th5hJgp7FgZ",
        "outputId": "398fd8da-d4ee-40eb-b96d-5c9b9b35f4af"
      },
      "execution_count": null,
      "outputs": [
        {
          "name": "stdout",
          "output_type": "stream",
          "text": [
            "Digite um número de telefone para testar (ou 'sair' para encerrar): 987259975\n",
            "O número 987259975 foi Aceito!\n",
            "Digite um número de telefone para testar (ou 'sair' para encerrar): 87259975\n",
            "O número 87259975 foi Rejeitado!\n",
            "Digite um número de telefone para testar (ou 'sair' para encerrar): sair\n"
          ]
        }
      ]
    },
    {
      "cell_type": "markdown",
      "source": [
        "# 5 - verificação de uma placa de veículo brasileira A placa segue o formato padrão \"ABC1D23\", onde:\n",
        "\n",
        "- As três primeiras posições são letras maiúsculas (de A a Z).\n",
        "- A quarta posição é um número.\n",
        "- A quinta posição é uma letra maiúscula.\n",
        "- As duas últimas posições são números.\n"
      ],
      "metadata": {
        "id": "DWb9Loyz_E9a"
      }
    },
    {
      "cell_type": "code",
      "source": [
        "class AFD_Placa:\n",
        "    def __init__(self):\n",
        "        # Definindo os estados\n",
        "        self.states = [\"q0\", \"q1\", \"q2\", \"q3\", \"q4\", \"q_accept\", \"q_reject\"]\n",
        "\n",
        "        # Alfabeto: letras maiúsculas e números\n",
        "        self.alphabet_letters = [\"A\", \"B\", \"C\", \"D\", \"E\", \"F\", \"G\", \"H\", \"I\", \"J\", \"K\", \"L\", \"M\", \"N\", \"O\", \"P\", \"Q\", \"R\", \"S\", \"T\", \"U\", \"V\", \"W\", \"X\", \"Y\", \"Z\"]\n",
        "        self.alphabet_digits = [\"0\", \"1\", \"2\", \"3\", \"4\", \"5\", \"6\", \"7\", \"8\", \"9\"]\n",
        "\n",
        "        # Definindo as transições\n",
        "        self.transitions = {\n",
        "            (\"q0\", letter): \"q1\" for letter in self.alphabet_letters\n",
        "        }\n",
        "\n",
        "        # Transições de q1 para q2 (primeiro número após 3 letras)\n",
        "        for letter in self.alphabet_letters:\n",
        "            self.transitions[(\"q1\", letter)] = \"q1\"  # Permanece em q1 até a terceira letra\n",
        "        for digit in self.alphabet_digits:\n",
        "            self.transitions[(\"q1\", digit)] = \"q2\"  # De q1 para q2 quando encontrar um número\n",
        "\n",
        "        # Transições de q2 para q3 (letra após o número)\n",
        "        for letter in self.alphabet_letters:\n",
        "            self.transitions[(\"q2\", letter)] = \"q3\"  # Depois do número, deve vir uma letra\n",
        "\n",
        "        # Transições de q3 para q4 (número após a letra)\n",
        "        for digit in self.alphabet_digits:\n",
        "            self.transitions[(\"q3\", digit)] = \"q4\"  # De q3 para q4 quando encontrar um número\n",
        "\n",
        "        # Transições de q4 para q_accept (último número)\n",
        "        for digit in self.alphabet_digits:\n",
        "            self.transitions[(\"q4\", digit)] = \"q_accept\"  # De q4 para q_accept quando encontrar o número final\n",
        "\n",
        "        # Estado inicial\n",
        "        self.initial_state = \"q0\"\n",
        "        # Estado de aceitação\n",
        "        self.accept_states = [\"q_accept\"]\n",
        "        # Estado de rejeição\n",
        "        self.reject_state = \"q_reject\"\n",
        "\n",
        "    def simulate(self, placa):\n",
        "        current_state = self.initial_state\n",
        "        for char in placa:\n",
        "            # Verifica se há transição válida para o próximo estado\n",
        "            if (current_state, char) in self.transitions:\n",
        "                current_state = self.transitions[(current_state, char)]\n",
        "            else:\n",
        "                return False  # Se não houver transição válida, rejeita a sequência\n",
        "        return current_state in self.accept_states\n",
        "\n",
        "\n",
        "# Testando a validação da placa\n",
        "afd_placa = AFD_Placa()\n",
        "\n",
        "while True:\n",
        "    placa = input(\"Digite uma placa de veículo (ou 'sair' para encerrar): \").upper()\n",
        "    if placa.lower() == \"sair\":\n",
        "        break\n",
        "    if afd_placa.simulate(placa):\n",
        "        print(f\"A placa {placa} é válida!\")\n",
        "    else:\n",
        "        print(f\"A placa {placa} é inválida!\")\n"
      ],
      "metadata": {
        "colab": {
          "base_uri": "https://localhost:8080/"
        },
        "id": "eL5g4SfE_ieR",
        "outputId": "61bc1cdd-dde9-4eb4-c456-690bafb36e1a"
      },
      "execution_count": null,
      "outputs": [
        {
          "name": "stdout",
          "output_type": "stream",
          "text": [
            "Digite uma placa de veículo (ou 'sair' para encerrar): ABC1D24\n",
            "A placa ABC1D24 é válida!\n",
            "Digite uma placa de veículo (ou 'sair' para encerrar): ABCD11\n",
            "A placa ABCD11 é inválida!\n",
            "Digite uma placa de veículo (ou 'sair' para encerrar): SAIR\n"
          ]
        }
      ]
    },
    {
      "cell_type": "markdown",
      "source": [
        "<h1> AFN"
      ],
      "metadata": {
        "id": "dsxOSG4HJ5AQ"
      }
    },
    {
      "cell_type": "markdown",
      "source": [
        "<h2>1- Identificador de usuário baseado em credenciais</h2>\n",
        "Utilizando um Autômato Finito Não Determinístico para identificar e validar usúarios com base na formatação da sua credencial. <br>\n",
        "Formato: User&lt;nível_acesso>&lt;função>&lt;equipe><br>\n",
        "\n",
        "\n",
        "*   **User**: Prefixo obrigatório.\n",
        "*   **Nível de Acesso (1 a 3)**: Hierarquia do usuário e nível de acesso ao sistema.\n",
        "*   **Função (1 ou 2)**: Função de trabalho desempenhado pelo usuário.\n",
        "*   **Equipe (a, b ou c)**: Filial ou equipe associada.\n",
        "\n",
        "\n",
        "\n"
      ],
      "metadata": {
        "id": "7auwg2tdCD4R"
      }
    },
    {
      "cell_type": "code",
      "execution_count": null,
      "metadata": {
        "colab": {
          "base_uri": "https://localhost:8080/"
        },
        "id": "UGeIHKYHB8N1",
        "outputId": "8d6772e8-1aed-4c27-9769-fa581b178b22"
      },
      "outputs": [
        {
          "output_type": "stream",
          "name": "stdout",
          "text": [
            "Digite seu usuário (formato User<nível_acesso><função><equipe>): User31a\n",
            "Bem-vindo! Consultor de Estratégia filial a\n"
          ]
        }
      ],
      "source": [
        "class Main:\n",
        "    def __init__(self, states, alphabet, transition_function, start_state, accept_states):\n",
        "        self.states = states\n",
        "        self.alphabet = alphabet\n",
        "        self.transition_function = transition_function\n",
        "        self.start_state = start_state\n",
        "        self.accept_states = accept_states\n",
        "\n",
        "    def _move(self, current_states, symbol):\n",
        "        new_states = set()\n",
        "        for state in current_states:\n",
        "            if symbol in self.transition_function.get(state, {}):\n",
        "                new_states.update(self.transition_function[state][symbol])\n",
        "        return new_states\n",
        "\n",
        "    def final_states(self, input_string):\n",
        "        current_states = {self.start_state}\n",
        "        for symbol in input_string:\n",
        "            current_states = self._move(current_states, symbol)\n",
        "        return current_states\n",
        "\n",
        "\n",
        "def identificar_usuario(user_input):\n",
        "    # Definir AFN para identificar o formato do usuário\n",
        "    states = {'q0', 'q1', 'q2', 'q3', 'q4', 'q5', 'q6', 'q7', 'q8', 'q9', 'q10', 'q11', 'q12', 'q13'}\n",
        "    alphabet = set(\"0123456789abcdefghijklmnopqrstuvwxyz\")\n",
        "    transition_function = {\n",
        "        'q0': {'U': {'q1'}},  # Começa com 'U'\n",
        "        'q1': {'s': {'q2'}},  # Segue com 's'\n",
        "        'q2': {'e': {'q3'}},  # Segue com 'e'\n",
        "        'q3': {'r': {'q4'}},  # Segue com 'r'\n",
        "\n",
        "        # No estado q4, '1', '2', '3' podem ter múltiplos caminhos\n",
        "        'q4': {'1': {'q5', 'q6'}, '2': {'q7', 'q8'}, '3': {'q9', 'q10'}},\n",
        "\n",
        "        # Nível de acesso '1' vai para q5 ou q6\n",
        "        'q5': {'1': {'q11'}},  # Função 1 para Nível 1\n",
        "        'q6': {'2': {'q12'}},  # Função 2 para Nível 1\n",
        "\n",
        "        # Nível de acesso '2' vai para q7 ou q8\n",
        "        'q7': {'1': {'q11'}},  # Função 1 para Nível 2\n",
        "        'q8': {'2': {'q12'}},  # Função 2 para Nível 2\n",
        "\n",
        "        # Nível de acesso '3' vai para q9 ou q10\n",
        "        'q9': {'1': {'q11'}},  # Função 1 para Nível 3\n",
        "        'q10': {'2': {'q12'}},  # Função 2 para Nível 3\n",
        "\n",
        "        # Estados finais\n",
        "        'q11': {'a': {'q13'}, 'b': {'q13'}, 'c': {'q13'}},\n",
        "        'q12': {'a': {'q13'}, 'b': {'q13'}, 'c': {'q13'}} # Equipe\n",
        "    }\n",
        "\n",
        "    start_state = 'q0'\n",
        "    accept_states = {\n",
        "        'q13': 'valid',  # Se atingir q13, está válido\n",
        "    }\n",
        "\n",
        "    user_nfa = Main(states, alphabet, transition_function, start_state, accept_states)\n",
        "\n",
        "    # Verificar estado final\n",
        "    final_states = user_nfa.final_states(user_input)\n",
        "    if 'q13' in final_states:\n",
        "        # Determinar o tipo de cargo\n",
        "        nivel_acesso = user_input[4]  # Nível de acesso\n",
        "        funcao = user_input[5]      # Função\n",
        "        time = user_input[6]         # Equipe\n",
        "\n",
        "        # Concatenar os dados para formar a chave\n",
        "        key = nivel_acesso + funcao + time\n",
        "        if key == '11a':\n",
        "            return \"Bem-vindo! Assistente de Marketing filial a\"\n",
        "        elif key == '11b':\n",
        "            return \"Bem-vindo! Assistente de Marketing filial b\"\n",
        "        elif key == '11c':\n",
        "            return \"Bem-vindo! Assistente de Marketing filial c\"\n",
        "        elif key == '12a':\n",
        "            return \"Bem-vindo! Atendente de Suporte filial a\"\n",
        "        elif key == '12b':\n",
        "            return \"Bem-vindo! Atendente de Suporte filial b\"\n",
        "        elif key == '12c':\n",
        "            return \"Bem-vindo! Atendente de Suporte filial c\"\n",
        "        elif key == '21a':\n",
        "            return \"Bem-vindo! Coordenador de Projetos filial a\"\n",
        "        elif key == '21b':\n",
        "            return \"Bem-vindo! Coordenador de Projetos filial b\"\n",
        "        elif key == '21c':\n",
        "            return \"Bem-vindo! Coordenador de Projetos filial c\"\n",
        "        elif key == '22a':\n",
        "            return \"Bem-vindo! Analista de Dados filial a\"\n",
        "        elif key == '22b':\n",
        "            return \"Bem-vindo! Analista de Dados filial b\"\n",
        "        elif key == '22c':\n",
        "            return \"Bem-vindo! Analista de Dados filial c\"\n",
        "        elif key == '31a':\n",
        "            return \"Bem-vindo! Consultor de Estratégia filial a\"\n",
        "        elif key == '31b':\n",
        "            return \"Bem-vindo! Consultor de Estratégia filial b\"\n",
        "        elif key == '31c':\n",
        "            return \"Bem-vindo! Consultor de Estratégia filial c\"\n",
        "        elif key == '32a':\n",
        "            return \"Bem-vindo! Arquiteto de Soluções filial a\"\n",
        "        elif key == '32b':\n",
        "            return \"Bem-vindo! Arquiteto de Soluções filial b\"\n",
        "        elif key == '32c':\n",
        "            return \"Bem-vindo! Arquiteto de Soluções filial c\"\n",
        "        else:\n",
        "            return \"Formato de usuário inválido\"\n",
        "    return \"Usuário inválido\"\n",
        "\n",
        "\n",
        "# Perguntar ao usuário\n",
        "user_input = input(\"Digite seu usuário (formato User<nível_acesso><função><equipe>): \")\n",
        "\n",
        "# Identificar o usuário\n",
        "resultado = identificar_usuario(user_input)\n",
        "print(resultado)\n"
      ]
    },
    {
      "cell_type": "markdown",
      "source": [
        "<h2>2- Identificador de Assento no cinema</h2>\n",
        "Utilizando um Autômato Finito Não Determinístico para identificar e validar assentos em ingressos para filmes. <br>\n",
        "Formato: &lt;numero>&lt;numero>&lt;letra><br>\n",
        "\n",
        "Dois números (00-99): Representam o número do assento.\n",
        "Uma letra (a-h): Indica a fileira do assento."
      ],
      "metadata": {
        "id": "ka3x71bhyNdB"
      }
    },
    {
      "cell_type": "code",
      "source": [
        "class Main:\n",
        "    def __init__(self, states, alphabet, transition_function, start_state, accept_states):\n",
        "        self.states = states\n",
        "        self.alphabet = alphabet\n",
        "        self.transition_function = transition_function\n",
        "        self.start_state = start_state\n",
        "        self.accept_states = accept_states\n",
        "\n",
        "    def _move(self, current_states, symbol):\n",
        "        new_states = set()\n",
        "        for state in current_states:\n",
        "            if symbol in self.transition_function.get(state, {}):\n",
        "                new_states.update(self.transition_function[state][symbol])\n",
        "        return new_states\n",
        "\n",
        "    def final_states(self, input_string):\n",
        "        current_states = {self.start_state}\n",
        "        for symbol in input_string:\n",
        "            current_states = self._move(current_states, symbol)\n",
        "        return current_states\n",
        "\n",
        "\n",
        "def identificar_assento(codigo_assento):\n",
        "    # Verifica se o código tem 3 caracteres\n",
        "    if len(codigo_assento) != 3:\n",
        "        return 'Formato inválido'\n",
        "\n",
        "    states = {'q0', 'q1', 'q2', 'q3', 'q4'}\n",
        "    alphabet = set(\"0123456789abcdefghijklmnopqrstuvwxyz\")  # Alfabeto (números e letras)\n",
        "\n",
        "    # Função de transição do AFN\n",
        "    transition_function = {\n",
        "        'q0': {str(i): {'q1'} for i in range(10)},  # Transição para o primeiro número\n",
        "        'q1': {str(i): {'q2'} for i in range(10)},  # Transição para o segundo número\n",
        "        'q2': {'a': {'q3'}, 'b': {'q3'}, 'c': {'q3'}, 'd': {'q3'}, 'e': {'q3'}, 'f': {'q3'}, 'g': {'q3'}, 'h': {'q3'}},  # Transição para a letra\n",
        "    }\n",
        "\n",
        "    accept_states = {'q3': 'assento_valido'}  # Estado de aceitação\n",
        "\n",
        "    assento_nfa = Main(states, alphabet, transition_function, 'q0', accept_states)\n",
        "\n",
        "    # Verificar estado final\n",
        "    final_states = assento_nfa.final_states(codigo_assento)\n",
        "    if 'q3' in final_states:\n",
        "        # Extrair números e letra\n",
        "        numero_assento = codigo_assento[:2]\n",
        "        fileira_assento = codigo_assento[2]\n",
        "        return f\"Bom filme! Assento número {numero_assento} na fileira {fileira_assento}\"\n",
        "    else:\n",
        "        return \"Assento inválido\"\n",
        "\n",
        "\n",
        "# Exemplo de entrada e saída\n",
        "codigo_assento = input(\"Digite o código do assento (exemplo: 11a): \")\n",
        "resultado = identificar_assento(codigo_assento)\n",
        "print(resultado)\n"
      ],
      "metadata": {
        "id": "3QNXA9kA4N9I",
        "colab": {
          "base_uri": "https://localhost:8080/"
        },
        "outputId": "dd0f4518-998c-4076-eb9f-dd93c92364b6"
      },
      "execution_count": null,
      "outputs": [
        {
          "output_type": "stream",
          "name": "stdout",
          "text": [
            "Digite o código do assento (exemplo: 11a): 23c\n",
            "Bom filme! Assento número 23 na fileira c\n"
          ]
        }
      ]
    },
    {
      "cell_type": "markdown",
      "source": [
        "<h2>3- Identificador de Provedor de Email</h2>\n",
        "Utilizando um Autômato Finito Não Determinístico (AFN) para identificar e validar endereços de e-mail com base no domínio e agrupá-los conforme o provedor. <br>\n",
        "Formato: domínio@provedor.com<br>\n"
      ],
      "metadata": {
        "id": "KBMU-lc40Hao"
      }
    },
    {
      "cell_type": "code",
      "source": [
        "class Main:\n",
        "    def __init__(self, states, alphabet, transition_function, start_state, accept_states):\n",
        "        self.states = states\n",
        "        self.alphabet = alphabet\n",
        "        self.transition_function = transition_function\n",
        "        self.start_state = start_state\n",
        "        self.accept_states = accept_states\n",
        "\n",
        "    def _move(self, current_states, symbol):\n",
        "        new_states = set()\n",
        "        for state in current_states:\n",
        "            if symbol in self.transition_function.get(state, {}):\n",
        "                new_states.update(self.transition_function[state][symbol])\n",
        "        return new_states\n",
        "\n",
        "    def final_states(self, input_string):\n",
        "        current_states = {self.start_state}\n",
        "        for symbol in input_string:\n",
        "            current_states = self._move(current_states, symbol)\n",
        "        return current_states\n",
        "\n",
        "\n",
        "def identifica_provedor_email(email):\n",
        "    if '@' not in email:\n",
        "        return 'invalid'\n",
        "\n",
        "    dominio = email.split('@')[1].lower()\n",
        "\n",
        "    states = {'q0', 'q1', 'q2', 'q3', 'q4', 'q5', 'q6', 'q7', 'q8', 'q9'}\n",
        "    alphabet = set(\"abcdefghijklmnopqrstuvwxyz0123456789.\")\n",
        "    transition_function = {\n",
        "        # De q0 a q1: qualquer caractere que não seja \".\" vai para q0 (a parte local do email)\n",
        "        'q0': {**{c: {'q0'} for c in alphabet - {'.'}}, '.': {'q1'}},\n",
        "\n",
        "        # De q1 para outros estados conhecidos\n",
        "        'q1': {\n",
        "            'g': {'q2'},  # Para gmail, vai direto para q2\n",
        "            'o': {'q4'},  # Para outlook, vai para q4\n",
        "            'h': {'q6'},  # Para hotmail, vai para q6\n",
        "            **{c: {'q9'} for c in alphabet - {'g', 'o', 'h'}}  # Para qualquer outro domínio, vai para q9\n",
        "        },\n",
        "        # Caminho para \"gmail.com\" (q2 -> q3 -> q7 -> q8)\n",
        "        'q2': {'m': {'q3'}},\n",
        "        'q3': {'a': {'q7'}},\n",
        "        'q7': {'i': {'q8'}},\n",
        "\n",
        "        # Caminho para \"outlook.com\" (q4 -> q5 -> q8)\n",
        "        'q4': {'u': {'q5'}},\n",
        "        'q5': {'t': {'q8'}},\n",
        "\n",
        "        # Caminho para \"hotmail.com\" (q6 -> q7 -> q8)\n",
        "        'q6': {'o': {'q7'}},\n",
        "\n",
        "        # Caminho genérico para outros domínios\n",
        "        'q9': {c: {'q9'} for c in alphabet}  # q9 aceita qualquer coisa para outros domínios\n",
        "    }\n",
        "\n",
        "    accept_states = {\n",
        "        'q8': 'known',  # Domínios conhecidos (gmail, hotmail, outlook)\n",
        "        'q9': 'other'   # Qualquer outro domínio\n",
        "    }\n",
        "\n",
        "    email_nfa = Main(states, alphabet, transition_function, 'q0', accept_states)\n",
        "    final_states = email_nfa.final_states(dominio)\n",
        "\n",
        "    # Verificar os estados finais e retornar o tipo de domínio\n",
        "    for state in final_states:\n",
        "        if state in accept_states:\n",
        "            return accept_states[state]\n",
        "    return 'unknown'\n",
        "\n",
        "\n",
        "def agruparPorProvedor(emails):\n",
        "    grupos = {}\n",
        "    for email in emails:\n",
        "        provedor = identifica_provedor_email(email)\n",
        "        if provedor not in grupos:\n",
        "            grupos[provedor] = []\n",
        "        grupos[provedor].append(email)\n",
        "    return grupos\n",
        "\n",
        "\n",
        "# Lista de e-mails para testar\n",
        "emails = [\"joao@gmail.com\", \"maria@hotmail.com\", \"lucas@outlook.com\", \"teste@meudominio.com\", \"alguem@gmail.com\", \"fulano@yahoo.com\"]\n",
        "\n",
        "# Agrupar e-mails por provedor\n",
        "emails_agrupados = agruparPorProvedor(emails)\n",
        "\n",
        "# Exibir os grupos de e-mails no console\n",
        "for provedor, emails in emails_agrupados.items():\n",
        "    print(f\"E-mails '{provedor}': {', '.join(emails)}\")\n"
      ],
      "metadata": {
        "colab": {
          "base_uri": "https://localhost:8080/"
        },
        "id": "A95doHisPd7c",
        "outputId": "0334442e-c420-4940-8b6e-4fa280e3eeda"
      },
      "execution_count": null,
      "outputs": [
        {
          "output_type": "stream",
          "name": "stdout",
          "text": [
            "E-mails 'other': joao@gmail.com, maria@hotmail.com, lucas@outlook.com, teste@meudominio.com, alguem@gmail.com, fulano@yahoo.com\n"
          ]
        }
      ]
    },
    {
      "cell_type": "markdown",
      "source": [
        "<h2>4- Identificador de Formato de Arquivo</h2>  \n",
        "Utilizando um Autômato Finito Não Determinístico para identificar e classificar arquivos com base em suas extensões.\n",
        "<br>  \n",
        "Formato: &lt;nome_do_arquivo>.<extensão>  \n",
        "<br>  \n",
        "\n",
        "* **Extensões reconhecidas:** `.jpg`, `.png`, `.txt`, `.mp3`, `.jar`.  \n",
        "* O autômato é projetado para diferenciar arquivos com extensões conhecidas, permitindo caminhos não determinísticos para extensões que compartilham caracteres iniciais.  \n",
        "* Arquivos que não correspondem a nenhuma extensão reconhecida são classificados como \"unknown\".  \n",
        "<br>  \n",
        "\n",
        "Este sistema é útil para agrupar automaticamente arquivos em diferentes categorias com base na extensão, demonstrando o uso prático de autômatos finitos não determinísticos em processos de identificação e separação de padrões.  \n"
      ],
      "metadata": {
        "id": "2WwU5p_guck4"
      }
    },
    {
      "cell_type": "code",
      "source": [
        "class Main:\n",
        "    def __init__(self, states, alphabet, transition_function, start_state, accept_states):\n",
        "        self.states = states\n",
        "        self.alphabet = alphabet\n",
        "        self.transition_function = transition_function\n",
        "        self.start_state = start_state\n",
        "        self.accept_states = accept_states\n",
        "\n",
        "    def _move(self, current_states, symbol):\n",
        "        new_states = set()\n",
        "        for state in current_states:\n",
        "            if symbol in self.transition_function.get(state, {}):\n",
        "                new_states.update(self.transition_function[state][symbol])\n",
        "        return new_states\n",
        "\n",
        "    def final_states(self, input_string):\n",
        "        current_states = {self.start_state}\n",
        "        for symbol in input_string:\n",
        "            current_states = self._move(current_states, symbol)\n",
        "        return current_states\n",
        "\n",
        "\n",
        "def identificado_tipo_arquivo(nome_arquivo):\n",
        "    nome_arquivo = nome_arquivo.lower()  # Normalizar para minúsculas\n",
        "    if '.' not in nome_arquivo:\n",
        "        return 'no_extension'\n",
        "\n",
        "    states = {'q0', 'q1', 'q2', 'q3', 'q4', 'q5', 'q6', 'q7', 'q8', 'q9', 'q10', 'q11', 'q12', 'q13', 'q14', 'q15'}\n",
        "    alphabet = set(\"abcdefghijklmnopqrstuvwxyz0123456789.\")\n",
        "    transition_function = {\n",
        "        'q0': {**{c: {'q0'} for c in alphabet - {'.'}}, '.': {'q1'}},\n",
        "        'q1': {'j': {'q2', 'q13'}, 't': {'q5'}, 'm': {'q8'}, 'p': {'q11'}},\n",
        "\n",
        "        # Caminho para \"jar\"\n",
        "        'q2': {'a': {'q3'}},\n",
        "        'q3': {'r': {'q4'}},\n",
        "\n",
        "        # Caminho para \"txt\"\n",
        "        'q5': {'x': {'q6'}},\n",
        "        'q6': {'t': {'q7'}},\n",
        "\n",
        "        # Caminho para \"mp3\"\n",
        "        'q8': {'p': {'q9'}},\n",
        "        'q9': {'3': {'q10'}},\n",
        "\n",
        "        # Caminho para \"png\"\n",
        "        'q11': {'n': {'q12'}},\n",
        "        'q12': {'g': {'q13'}},\n",
        "\n",
        "        # Caminho para \"jpg\"\n",
        "        'q13': {'p': {'q14'}},\n",
        "        'q14': {'g': {'q15'}}\n",
        "    }\n",
        "    accept_states = {\n",
        "        'q4': 'jar',\n",
        "        'q7': 'txt',\n",
        "        'q10': 'mp3',\n",
        "        'q13': 'png',\n",
        "        'q15': 'jpg'\n",
        "    }\n",
        "\n",
        "    nome_arquivo_nfa = Main(states, alphabet, transition_function, 'q0', accept_states)\n",
        "\n",
        "    final_states = nome_arquivo.final_states(nome_arquivo)\n",
        "    for state in final_states:\n",
        "        if state in accept_states:\n",
        "            return accept_states[state]\n",
        "    return 'unknown'\n",
        "\n",
        "\n",
        "def agruparPorTipo(arquivos):\n",
        "    grupos = {}\n",
        "    for file in arquivos:\n",
        "        tipo_arquivo = identificado_tipo_arquivo(file)\n",
        "        if tipo_arquivo not in grupos:\n",
        "            grupos[tipo_arquivo] = []\n",
        "        grupos[tipo_arquivo].append(file)\n",
        "    return grupos\n",
        "\n",
        "# Lista de arquivos para agrupar\n",
        "arquivos = [\"gato.png\", \"paisagem.jpg\", \"cobra.png\", \"carta.txt\", \"kendrick.mp3\", \"frank.mp3\", \"logotipo.jpg\", \"projeto.jar\"]\n",
        "\n",
        "# Agrupar arquivos\n",
        "arquivosAgrupados = agruparPorTipo(arquivos)\n",
        "\n",
        "# Exibir os grupos de arquivos no console\n",
        "for tipo_arquivo, arquivos in arquivosAgrupados.items():\n",
        "    print(f\"arquivos '{tipo_arquivo}': {', '.join(arquivos)}\")\n"
      ],
      "metadata": {
        "colab": {
          "base_uri": "https://localhost:8080/"
        },
        "id": "H7TabKTON4Vw",
        "outputId": "0ce80a8f-9b8d-4d2b-cc5f-50d83d292cff"
      },
      "execution_count": null,
      "outputs": [
        {
          "output_type": "stream",
          "name": "stdout",
          "text": [
            "arquivos 'png': gato.png, cobra.png\n",
            "arquivos 'jpg': paisagem.jpg, logotipo.jpg\n",
            "arquivos 'txt': carta.txt\n",
            "arquivos 'mp3': kendrick.mp3, frank.mp3\n",
            "arquivos 'jar': projeto.jar\n"
          ]
        }
      ]
    },
    {
      "cell_type": "markdown",
      "source": [
        "<h2>5- Agrupador de Números por Magnitude (Unidade, Dezena, Centena, Milhar) </h2>  \n",
        "Utilizando um Autômato Finito Não Determinístico para identificar o tamanho de um número e agrupar ele entre unidades, dezenas, centenas e milhares.\n",
        "<br>  \n"
      ],
      "metadata": {
        "id": "0Lfzh0RvlB0s"
      }
    },
    {
      "cell_type": "code",
      "source": [
        "class Main:\n",
        "    def __init__(self, states, alphabet, transition_function, start_state, accept_states):\n",
        "        self.states = states\n",
        "        self.alphabet = alphabet\n",
        "        self.transition_function = transition_function\n",
        "        self.start_state = start_state\n",
        "        self.accept_states = accept_states\n",
        "\n",
        "    def _move(self, current_states, symbol):\n",
        "        new_states = set()\n",
        "        for state in current_states:\n",
        "            if symbol in self.transition_function.get(state, {}):\n",
        "                new_states.update(self.transition_function[state][symbol])\n",
        "        return new_states\n",
        "\n",
        "    def final_states(self, input_string):\n",
        "        current_states = {self.start_state}\n",
        "        for symbol in input_string:\n",
        "            current_states = self._move(current_states, symbol)\n",
        "        return current_states\n",
        "\n",
        "\n",
        "def agrupar_por_magnitude(numero):\n",
        "    numero_str = str(numero)\n",
        "\n",
        "    states = {'q0', 'q1', 'q2', 'q3', 'q4', 'q5'}\n",
        "    alphabet = set(\"0123456789\")\n",
        "    transition_function = {\n",
        "        'q0': {**{c: {'q1'} for c in alphabet}},  # De q0 a q1, ao ler qualquer dígito (1º dígito)\n",
        "        'q1': {**{c: {'q2'} for c in alphabet}},  # De q1 a q2, ao ler o 2º dígito\n",
        "        'q2': {**{c: {'q3'} for c in alphabet}},  # De q2 a q3, ao ler o 3º dígito\n",
        "        'q3': {**{c: {'q4'} for c in alphabet}},  # De q3 a q4, ao ler o 4º dígito\n",
        "        'q4': {},  # q4 não transita, pois é um número de 4 dígitos\n",
        "        'q5': {}   # q5 é um estado inválido para mais de 4 dígitos\n",
        "    }\n",
        "\n",
        "    accept_states = {\n",
        "        'q1': 'unidade',  # 1 dígito\n",
        "        'q2': 'dezena',   # 2 dígitos\n",
        "        'q3': 'centena',  # 3 dígitos\n",
        "        'q4': 'milhar',   # 4 dígitos\n",
        "    }\n",
        "\n",
        "    # Iniciar a máquina com o estado inicial\n",
        "    number_nfa = Main(states, alphabet, transition_function, 'q0', accept_states)\n",
        "    final_states = number_nfa.final_states(numero_str)\n",
        "\n",
        "    # Verificar qual estado final é alcançado\n",
        "    for state in final_states:\n",
        "        if state in accept_states:\n",
        "            return accept_states[state]\n",
        "    return 'invalido'\n",
        "\n",
        "\n",
        "def agrupar_por_magnitudes(numeros):\n",
        "    groups = {'unidade': [], 'dezena': [], 'centena': [], 'milhar': [], 'invalido': []}\n",
        "    for numero in numeros:\n",
        "        grupo = agrupar_por_magnitude(numero)\n",
        "        groups[grupo].append(numero)\n",
        "    return groups\n",
        "\n",
        "\n",
        "# Lista de números para testar\n",
        "numeros = [5, 42, 101, 987, 2345, 12345, 8, 23]\n",
        "\n",
        "# Agrupar números por magnitude\n",
        "numeros_agrupados = agrupar_por_magnitudes(numeros)\n",
        "\n",
        "# Exibir os grupos de números no console\n",
        "for grupo, numeros in numeros_agrupados.items():\n",
        "    print(f\"Números '{grupo}': {', '.join(map(str, numeros))}\")\n"
      ],
      "metadata": {
        "colab": {
          "base_uri": "https://localhost:8080/"
        },
        "id": "nv31XKJW5fiq",
        "outputId": "8e36a468-58db-41ff-b1b7-193415626b20"
      },
      "execution_count": null,
      "outputs": [
        {
          "output_type": "stream",
          "name": "stdout",
          "text": [
            "Números 'unidade': 5, 8\n",
            "Números 'dezena': 42, 23\n",
            "Números 'centena': 101, 987\n",
            "Números 'milhar': 2345\n",
            "Números 'invalido': 12345\n"
          ]
        }
      ]
    },
    {
      "cell_type": "markdown",
      "source": [
        "<h1>Máquinas de Turing"
      ],
      "metadata": {
        "id": "rpc5TMYrJ9Is"
      }
    },
    {
      "cell_type": "markdown",
      "source": [
        "<h2>1- Limpador de Senhas</h2>\n",
        "Máquina de Turing capaz de retirar caracteres indesejados de uma senha."
      ],
      "metadata": {
        "id": "nHp5Pi8rEarp"
      }
    },
    {
      "cell_type": "code",
      "source": [
        "def LimparSenha(senha):\n",
        "    # Definir os caracteres indesejados a serem removidos\n",
        "    caracteresIndesejados = ['[', ']', '\"']\n",
        "\n",
        "    # Filtrar a senha removendo os caracteres indesejados\n",
        "    senhaLimpa = ''.join(c for c in senha if c not in caracteresIndesejados)\n",
        "\n",
        "    return senhaLimpa\n",
        "\n",
        "# Testando a função\n",
        "senha = 'senha[\"secreta\"]'\n",
        "senhaLimpa = LimparSenha(senha)\n",
        "print(f\"Senha original: {senha}\")\n",
        "print(f\"Senha limpa: {senhaLimpa}\")\n"
      ],
      "metadata": {
        "colab": {
          "base_uri": "https://localhost:8080/"
        },
        "id": "e_zGQGPoEi3u",
        "outputId": "6ebc0ea3-65a7-4048-9e44-4ccca7e61039"
      },
      "execution_count": null,
      "outputs": [
        {
          "output_type": "stream",
          "name": "stdout",
          "text": [
            "Senha original: senha[\"secreta\"]\n",
            "Senha limpa: senhasecreta\n"
          ]
        }
      ]
    },
    {
      "cell_type": "markdown",
      "source": [
        "<h2>2- Verificador de balanceamento de parênteses</h2>\n",
        "Máquina de Turing capaz de ler string e identificar se todos os parênteses abertos estão fechados."
      ],
      "metadata": {
        "id": "IE01DZ0DG6Eq"
      }
    },
    {
      "cell_type": "code",
      "source": [
        "def parentesesBalanceado(expressao):\n",
        "    # Usamos uma compreensão de lista para criar uma nova string com apenas '(' e ')'\n",
        "    expressão_limpa = ''.join(c for c in expressao if c in '()')\n",
        "\n",
        "    # Cria uma pilha (lista) para armazenar os parênteses abertos\n",
        "    stack = []\n",
        "\n",
        "    for char in expressão_limpa:\n",
        "        if char == '(':\n",
        "            stack.append(char)  # Adiciona o parêntese de abertura na pilha\n",
        "        elif char == ')':\n",
        "            if not stack:  # Verifica se a pilha está vazia\n",
        "                # Se estiver vazia, significa que temos um ')' sem um '(' correspondente\n",
        "                return \"Sequência de parênteses desbalanceada.\"\n",
        "            stack.pop()  # Remove o parêntese de abertura correspondente à ')'\n",
        "\n",
        "    # Após percorrer toda a expressão, verificamos se a pilha está vazia\n",
        "    if not stack:\n",
        "        # Se a pilha estiver vazia, todos os parênteses abertos foram fechados corretamente\n",
        "        return \"Sequência de parênteses balanceada.\"\n",
        "    else:\n",
        "        # Se ainda houver parênteses na pilha, significa que faltam fechamentos\n",
        "        return \"Sequência de parênteses desbalanceada.\"\n",
        "\n",
        "# Testando a função\n",
        "expressao = \"(1 + (2 * 3)) + (4 / 5)\"  # Exemplo de expressão com parênteses balanceados\n",
        "result = parentesesBalanceado(expressao)\n",
        "print(result)  # Espera-se que a saída seja \"Sequência de parênteses balanceada.\"\n"
      ],
      "metadata": {
        "colab": {
          "base_uri": "https://localhost:8080/"
        },
        "id": "v628bC5DGaZA",
        "outputId": "098f2ea6-b58c-44be-b08c-6c4d5b444185"
      },
      "execution_count": null,
      "outputs": [
        {
          "output_type": "stream",
          "name": "stdout",
          "text": [
            "Sequência de parênteses balanceada.\n"
          ]
        }
      ]
    },
    {
      "cell_type": "markdown",
      "source": [
        "<h2>3- Aplicador de desconto</h2>\n",
        "Uma máquina de turing que aplica 10% de desconto quando um produto custa mais que R$100"
      ],
      "metadata": {
        "id": "rPu2QmupH5-2"
      }
    },
    {
      "cell_type": "code",
      "source": [
        "class MaquinaDeTuring:\n",
        "    def __init__(self, preco):\n",
        "        # Inicializa a fita com o preço, onde cada caractere é um símbolo da fita\n",
        "        self.fita = list(str(preco).replace('.', ''))  # Remove o ponto para facilitar o cálculo\n",
        "        self.estado_atual = 'q0'  # Começa no estado inicial\n",
        "        self.cabeca = 0  # Cabeça de leitura/escrita começa no início da fita\n",
        "\n",
        "    def transicao(self):\n",
        "        while self.cabeca < len(self.fita):\n",
        "            simbolo = self.fita[self.cabeca]\n",
        "            if self.estado_atual == 'q0':  # Estado inicial, verifica o primeiro dígito\n",
        "                if simbolo in '123456789':  # Se o primeiro dígito for 1, 2, 3... então é maior que 100\n",
        "                    self.estado_atual = 'q1'\n",
        "                elif simbolo == '0':  # Se for 0, o número é inferior a 50\n",
        "                    self.estado_atual = 'q3'\n",
        "                self.cabeca += 1\n",
        "\n",
        "            elif self.estado_atual == 'q1':  # Se o preço for maior que 100\n",
        "                # Aplica 10% de desconto (multiplicação por 0.9)\n",
        "                if self.cabeca == len(self.fita) - 1:  # Se for o último caractere (após o ponto)\n",
        "                    preco_novo = float(''.join(self.fita)) * 0.9  # Aplica 10% de desconto\n",
        "                    preco_novo_str = str(preco_novo)\n",
        "                    self.fita = list(preco_novo_str.replace('.', ''))  # Atualiza a fita com o valor descontado\n",
        "                self.estado_atual = 'q2'\n",
        "                self.cabeca += 1\n",
        "\n",
        "            elif self.estado_atual == 'q2':  # Finaliza após aplicar o desconto\n",
        "                break\n",
        "\n",
        "            elif self.estado_atual == 'q3':  # Se o preço for menor que 50\n",
        "                # Preço sem desconto\n",
        "                self.estado_atual = 'q2'\n",
        "                break\n",
        "\n",
        "        # Para retornar o preço final formatado com ponto\n",
        "        preco_final = ''.join(self.fita)\n",
        "        if len(preco_final) > 2:  # Se o número tiver mais que dois dígitos após a vírgula\n",
        "            preco_final = preco_final[:-2] + '.' + preco_final[-2:]\n",
        "        return preco_final\n",
        "\n",
        "# Função principal que simula a execução da Máquina de Turing\n",
        "def aplicar_desconto_maquina_turing(preco):\n",
        "    maquina = MaquinaDeTuring(preco)\n",
        "    return maquina.transicao()\n",
        "\n",
        "# Testando a Máquina de Turing para aplicar desconto\n",
        "preco_original = 188.00\n",
        "preco_com_desconto = aplicar_desconto_maquina_turing(preco_original)\n",
        "\n",
        "print(f\"Preço original: {preco_original}\")\n",
        "print(f\"Preço com desconto: {preco_com_desconto}\")\n"
      ],
      "metadata": {
        "colab": {
          "base_uri": "https://localhost:8080/"
        },
        "id": "oTQRKM6nH-9e",
        "outputId": "2166d93e-9b4b-4171-b715-78a0b04a240a"
      },
      "execution_count": null,
      "outputs": [
        {
          "output_type": "stream",
          "name": "stdout",
          "text": [
            "Preço original: 188.0\n",
            "Preço com desconto: 18.80\n"
          ]
        }
      ]
    },
    {
      "cell_type": "markdown",
      "source": [
        "<h2> 4- Limpador de número de celular </h2>\n",
        "Máquina de Turing que retira caracteres desnecessários de um número de celular, e separa o DDD."
      ],
      "metadata": {
        "id": "zQPBVU_7FQ9A"
      }
    },
    {
      "cell_type": "code",
      "source": [
        "import re\n",
        "\n",
        "def limpadorNumero(numeroCelular):\n",
        "    # Remover tudo que não for número\n",
        "    numeroLimpo = ''.join(c for c in numeroCelular if c.isdigit())\n",
        "\n",
        "    # Separar o DDD (primeiros dois dígitos) e o número do celular\n",
        "    if len(numeroLimpo) == 11:  # Verifica se o número tem o tamanho correto\n",
        "        ddd = numeroLimpo[:2]  # Primeiro dois dígitos são o DDD\n",
        "        phone = numeroLimpo[2:]  # O restante é o número do celular\n",
        "        return f\"DDD: {ddd}, Número: {phone}\"\n",
        "    else:\n",
        "        return \"Número de celular inválido!\"\n",
        "\n",
        "# Testando a função\n",
        "numeroCelular = \"(81) 99222-3311\"\n",
        "resultado = limpadorNumero(numeroCelular)\n",
        "print(resultado)\n"
      ],
      "metadata": {
        "colab": {
          "base_uri": "https://localhost:8080/"
        },
        "id": "SuzNi9RAFdqi",
        "outputId": "1c050e8f-ea92-466b-df24-84ff6c7039b0"
      },
      "execution_count": 5,
      "outputs": [
        {
          "output_type": "stream",
          "name": "stdout",
          "text": [
            "DDD: 81, Número: 992223311\n"
          ]
        }
      ]
    },
    {
      "cell_type": "markdown",
      "source": [
        "<h2>5- Conversão de números binários para decimal</h2>\n",
        "Máquina de Turing que converte números binários em decimais."
      ],
      "metadata": {
        "id": "ZIMmo4BDIUua"
      }
    },
    {
      "cell_type": "code",
      "source": [
        "def binario_para_decimal(stringBinario):\n",
        "    # Converte a string binária em uma lista de caracteres (cada caractere será '1' ou '0')\n",
        "    fita = list(stringBinario)\n",
        "\n",
        "    # Inicializa a variável de resultado, que vai armazenar o valor decimal\n",
        "    resultado = 0\n",
        "\n",
        "    # A potência começa no número de bits menos 1 (o bit mais à esquerda será multiplicado por 2^3 no caso de '1101')\n",
        "    potencia = len(fita) - 1\n",
        "\n",
        "    # Percorre cada bit na fita\n",
        "    for bit in fita:\n",
        "        # Se o bit for '1', adicionamos a potência correspondente ao resultado\n",
        "        if bit == '1':\n",
        "            resultado += 2 ** potencia\n",
        "\n",
        "        # Diminui a potência a cada iteração (a próxima potência será menor)\n",
        "        potencia -= 1\n",
        "\n",
        "    # Retorna o valor decimal calculado\n",
        "    return resultado\n",
        "\n",
        "# Testando a função\n",
        "binario = \"1101\"  # 13 em decimal\n",
        "decimal = binario_para_decimal(binario)\n",
        "\n",
        "# Exibe o resultado da conversão\n",
        "print(f\"O número binário {binario} é igual a {decimal} em decimal.\")\n"
      ],
      "metadata": {
        "colab": {
          "base_uri": "https://localhost:8080/"
        },
        "id": "IUGaZhkmJAuQ",
        "outputId": "84ffd98b-10b3-4999-e09d-c2dada53c401"
      },
      "execution_count": 4,
      "outputs": [
        {
          "output_type": "stream",
          "name": "stdout",
          "text": [
            "O número binário 1101 é igual a 13 em decimal.\n"
          ]
        }
      ]
    }
  ]
}