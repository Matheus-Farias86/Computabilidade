{
  "nbformat": 4,
  "nbformat_minor": 0,
  "metadata": {
    "colab": {
      "provenance": [],
      "authorship_tag": "ABX9TyP1rZ6j8M5HAy0322oCDMSd",
      "include_colab_link": true
    },
    "kernelspec": {
      "name": "python3",
      "display_name": "Python 3"
    },
    "language_info": {
      "name": "python"
    }
  },
  "cells": [
    {
      "cell_type": "markdown",
      "metadata": {
        "id": "view-in-github",
        "colab_type": "text"
      },
      "source": [
        "<a href=\"https://colab.research.google.com/github/Matheus-Farias86/Computabilidade/blob/main/MascaraCPF.ipynb\" target=\"_parent\"><img src=\"https://colab.research.google.com/assets/colab-badge.svg\" alt=\"Open In Colab\"/></a>"
      ]
    },
    {
      "cell_type": "markdown",
      "source": [
        "**Autor: José Matheus - Turma: 5a noite** <br>\n",
        "Atividade de máscara para cpf <br><br>\n",
        "Formatação desejada: <br>\n",
        "Exemplo: 123.345.789-00\n",
        "1.   14 caractéres\n",
        "2.   11 digitos\n",
        "3.   2 '.'\n",
        "4.   1 '-'\n",
        "5.   Máscara no formato \"XXX.000.000-XX\"\n",
        "<br><br>\n",
        "\n"
      ],
      "metadata": {
        "id": "cPSUacq3sGk9"
      }
    },
    {
      "cell_type": "code",
      "execution_count": null,
      "metadata": {
        "colab": {
          "base_uri": "https://localhost:8080/"
        },
        "id": "Bd4Kqwj1huvs",
        "outputId": "1ae2c301-5f58-4c27-f2ef-70e48c2af614"
      },
      "outputs": [
        {
          "output_type": "stream",
          "name": "stdout",
          "text": [
            "XXX.456.789-XX\n",
            "CPF inválido\n",
            "XXX.888.777-XX\n",
            "CPF inválido\n"
          ]
        }
      ],
      "source": [
        "def mascaraCPF(cpf):\n",
        "    estado = 'q0'\n",
        "\n",
        "    for char in cpf:\n",
        "        if estado == 'q0':\n",
        "            if char.isdigit():\n",
        "                estado = 'q1'\n",
        "            else:\n",
        "                estado = 'q_rejeita'\n",
        "                break\n",
        "        elif estado == 'q1':\n",
        "            if char.isdigit():\n",
        "                estado = 'q2'\n",
        "            else:\n",
        "                estado = 'q_rejeita'\n",
        "                break\n",
        "        elif estado == 'q2':\n",
        "            if char.isdigit():\n",
        "                estado = 'q3'\n",
        "            else:\n",
        "                estado = 'q_rejeita'\n",
        "                break\n",
        "        elif estado == 'q3':\n",
        "            if char == '.':\n",
        "                estado = 'q4'\n",
        "            else:\n",
        "                estado = 'q_rejeita'\n",
        "                break\n",
        "        elif estado == 'q4':\n",
        "            if char.isdigit():\n",
        "                estado = 'q5'\n",
        "            else:\n",
        "                estado = 'q_rejeita'\n",
        "                break\n",
        "        elif estado == 'q5':\n",
        "            if char.isdigit():\n",
        "                estado = 'q6'\n",
        "            else:\n",
        "                estado = 'q_rejeita'\n",
        "                break\n",
        "        elif estado == 'q6':\n",
        "            if char.isdigit():\n",
        "                estado = 'q7'\n",
        "            else:\n",
        "                estado = 'q_rejeita'\n",
        "                break\n",
        "        elif estado == 'q7':\n",
        "            if char == '.':\n",
        "                estado = 'q8'\n",
        "            else:\n",
        "                estado = 'q_rejeita'\n",
        "                break\n",
        "        elif estado == 'q8':\n",
        "           if char.isdigit():\n",
        "                estado = 'q9'\n",
        "           else:\n",
        "                estado = 'q_rejeita'\n",
        "                break\n",
        "        elif estado == 'q9':\n",
        "            if char.isdigit():\n",
        "                estado = 'q10'\n",
        "            else:\n",
        "                estado = 'q_rejeita'\n",
        "                break\n",
        "        elif estado == 'q10':\n",
        "            if char.isdigit():\n",
        "                estado = 'q11'\n",
        "            else:\n",
        "                estado = 'q_rejeita'\n",
        "                break\n",
        "        elif estado == 'q11':\n",
        "            if char == '-':\n",
        "                estado = 'q12'\n",
        "            else:\n",
        "                estado = 'q_rejeita'\n",
        "                break\n",
        "        elif estado == 'q12':\n",
        "            if char.isdigit():\n",
        "                #trocar pra X\n",
        "                estado = 'q13'\n",
        "            else:\n",
        "                estado = 'q_rejeita'\n",
        "                break\n",
        "        elif estado == 'q13':\n",
        "            if char.isdigit():\n",
        "                #trocar pra X\n",
        "                estado = 'q14'\n",
        "            else:\n",
        "                estado = 'q_rejeita'\n",
        "                break\n",
        "\n",
        "    if estado == 'q14' and len(cpf) == 14:\n",
        "        mascara = \"\"\n",
        "        mascarar_posicoes = [0, 1, 2, 12, 13]\n",
        "        i = 0\n",
        "\n",
        "        for char in cpf:\n",
        "            if i in mascarar_posicoes and char.isdigit():\n",
        "                mascara += 'X'\n",
        "            else:\n",
        "                mascara += char\n",
        "            i += 1\n",
        "\n",
        "        return mascara\n",
        "    else:\n",
        "        return \"CPF inválido\"\n",
        "# Testes\n",
        "print(mascaraCPF(\"123.456.789-10\")) # Válido\n",
        "print(mascaraCPF(\"11.200.333-44\")) # Inválido\n",
        "print(mascaraCPF(\"999.888.777-00\")) # Válido\n",
        "print(mascaraCPF(\"11100011100\")) # Inválido"
      ]
    }
  ]
}