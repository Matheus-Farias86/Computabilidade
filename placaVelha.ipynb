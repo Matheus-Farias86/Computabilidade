{
  "nbformat": 4,
  "nbformat_minor": 0,
  "metadata": {
    "colab": {
      "provenance": [],
      "authorship_tag": "ABX9TyPSbUJwloJ7GrC6oQ16VQ0d",
      "include_colab_link": true
    },
    "kernelspec": {
      "name": "python3",
      "display_name": "Python 3"
    },
    "language_info": {
      "name": "python"
    }
  },
  "cells": [
    {
      "cell_type": "markdown",
      "metadata": {
        "id": "view-in-github",
        "colab_type": "text"
      },
      "source": [
        "<a href=\"https://colab.research.google.com/github/Matheus-Farias86/Computabilidade/blob/main/placaVelha.ipynb\" target=\"_parent\"><img src=\"https://colab.research.google.com/assets/colab-badge.svg\" alt=\"Open In Colab\"/></a>"
      ]
    },
    {
      "cell_type": "markdown",
      "source": [
        "**Autor: José Matheus - Turma: 5a noite** <br>\n",
        "Atividade de validação de placa de carro no formato antigo <br><br>\n",
        "Formatação desejada: <br>\n",
        "Exemplo: [ABC-1234]\n",
        "1.   8 Dígitos\n",
        "2.   4 Algarismos\n",
        "3.   3 Letras\n",
        "4.   1 Símbolo\n",
        "5.   Na sequência: LLL-NLNN (L = Letra ; N = Número)\n",
        "<br><br>\n",
        "\n"
      ],
      "metadata": {
        "id": "nNQR1hJ1zDZx"
      }
    },
    {
      "cell_type": "code",
      "execution_count": null,
      "metadata": {
        "colab": {
          "base_uri": "https://localhost:8080/"
        },
        "id": "TCAjXjGud26C",
        "outputId": "c0bb3949-ad15-4a98-ea34-7097de55f28b"
      },
      "outputs": [
        {
          "output_type": "stream",
          "name": "stdout",
          "text": [
            "Placa válida\n",
            "Placa inválida\n",
            "Placa válida\n",
            "Placa inválida\n"
          ]
        }
      ],
      "source": [
        "def placaVelha(placa):\n",
        "    estado = 'q0'\n",
        "\n",
        "    for char in placa:\n",
        "      if estado == 'q0':\n",
        "          if char.isalpha():\n",
        "            estado = 'q1'\n",
        "          else:\n",
        "            estado = 'q_rejeita'\n",
        "            break\n",
        "      elif estado == 'q1':\n",
        "          if char.isalpha():\n",
        "            estado = 'q2'\n",
        "          else:\n",
        "            estado = 'q_rejeita'\n",
        "            break\n",
        "      elif estado == 'q2':\n",
        "          if char.isalpha():\n",
        "            estado = 'q3'\n",
        "          else:\n",
        "            estado = 'q_rejeita'\n",
        "            break\n",
        "      elif estado == 'q3':\n",
        "          if char == '-' :\n",
        "            estado = 'q4'\n",
        "          else:\n",
        "            estado = 'q_rejeita'\n",
        "            break\n",
        "      elif estado == 'q4':\n",
        "          if char.isdigit():\n",
        "            estado = 'q5'\n",
        "          else:\n",
        "            estado = 'q_rejeita'\n",
        "            break\n",
        "      elif estado == 'q5':\n",
        "          if char.isdigit():\n",
        "            estado = 'q6'\n",
        "          else:\n",
        "            estado = 'q_rejeita'\n",
        "            break\n",
        "      elif estado == 'q6':\n",
        "          if char.isdigit():\n",
        "            estado = 'q7'\n",
        "          else:\n",
        "            estado = 'q_rejeita'\n",
        "            break\n",
        "      elif estado == 'q7':\n",
        "          if char.isdigit():\n",
        "            estado = 'q8'\n",
        "          else:\n",
        "            estado = 'q_rejeita'\n",
        "            break\n",
        "\n",
        "    if estado == 'q8':\n",
        "        return \"Placa válida\"\n",
        "    else:\n",
        "        return \"Placa inválida\"\n",
        "\n",
        "print(placaVelha(\"ABC-1234\")) # Válido\n",
        "print(placaVelha(\"ABC-1X34\")) # Inválido\n",
        "print(placaVelha(\"WXY-6789\")) # Válido\n",
        "print(placaVelha(\"A1B-2C3D\")) # Inválido"
      ]
    }
  ]
}