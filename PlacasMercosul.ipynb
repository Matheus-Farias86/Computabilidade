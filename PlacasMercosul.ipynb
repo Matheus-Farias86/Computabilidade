{
  "nbformat": 4,
  "nbformat_minor": 0,
  "metadata": {
    "colab": {
      "provenance": [],
      "authorship_tag": "ABX9TyM/Z5GXX/moh5gKG/XuuLb4",
      "include_colab_link": true
    },
    "kernelspec": {
      "name": "python3",
      "display_name": "Python 3"
    },
    "language_info": {
      "name": "python"
    }
  },
  "cells": [
    {
      "cell_type": "markdown",
      "metadata": {
        "id": "view-in-github",
        "colab_type": "text"
      },
      "source": [
        "<a href=\"https://colab.research.google.com/github/Matheus-Farias86/Computabilidade/blob/main/PlacasMercosul.ipynb\" target=\"_parent\"><img src=\"https://colab.research.google.com/assets/colab-badge.svg\" alt=\"Open In Colab\"/></a>"
      ]
    },
    {
      "cell_type": "markdown",
      "source": [
        "**Autor: José Matheus - Turma: 5a noite** <br>\n",
        "Atividade de validação de placa de carro no formato novo Mercosul <br><br>\n",
        "Formatação desejada: <br>\n",
        "Exemplo: [ABC 1D23]\n",
        "1.   7 Dígitos\n",
        "2.   3 Algarismos\n",
        "3.   4 Letras\n",
        "4.   Na sequência: LLLNLNN (L = Letra ; N = Número)\n",
        "<br><br>\n",
        "\n"
      ],
      "metadata": {
        "id": "cPSUacq3sGk9"
      }
    },
    {
      "cell_type": "code",
      "execution_count": null,
      "metadata": {
        "colab": {
          "base_uri": "https://localhost:8080/"
        },
        "id": "Bd4Kqwj1huvs",
        "outputId": "dc595980-9f05-4496-c74e-865c14e6318c"
      },
      "outputs": [
        {
          "output_type": "stream",
          "name": "stdout",
          "text": [
            "Placa válida\n",
            "Placa inválida\n",
            "Placa válida\n",
            "Placa inválida\n"
          ]
        }
      ],
      "source": [
        "def placaMercosul(placa):\n",
        "    estado = 'q0'\n",
        "\n",
        "    for char in placa:\n",
        "        if estado == 'q0':\n",
        "            if char.isalpha():\n",
        "                estado = 'q1'\n",
        "            else:\n",
        "                estado = 'q_rejeita'\n",
        "                break\n",
        "        elif estado == 'q1':\n",
        "            if char.isalpha():\n",
        "                estado = 'q2'\n",
        "            else:\n",
        "                estado = 'q_rejeita'\n",
        "                break\n",
        "        elif estado == 'q2':\n",
        "            if char.isalpha():\n",
        "                estado = 'q3'\n",
        "            else:\n",
        "                estado = 'q_rejeita'\n",
        "                break\n",
        "        elif estado == 'q3':\n",
        "            if char.isdigit():\n",
        "                estado = 'q4'\n",
        "            else:\n",
        "                estado = 'q_rejeita'\n",
        "                break\n",
        "        elif estado == 'q4':\n",
        "            if char.isalpha():\n",
        "                estado = 'q5'\n",
        "            else:\n",
        "                estado = 'q_rejeita'\n",
        "                break\n",
        "        elif estado == 'q5':\n",
        "            if char.isdigit():\n",
        "                estado = 'q6'\n",
        "            else:\n",
        "                estado = 'q_rejeita'\n",
        "                break\n",
        "        elif estado == 'q6':\n",
        "            if char.isdigit():\n",
        "                estado = 'q7'\n",
        "            else:\n",
        "                estado = 'q_rejeita'\n",
        "                break\n",
        "\n",
        "    if estado == 'q7' and len(placa) == 7:\n",
        "        return \"Placa válida\"\n",
        "    else:\n",
        "        return \"Placa inválida\"\n",
        "\n",
        "# Testes\n",
        "print(placaMercosul(\"ABC1D23\")) # Válido\n",
        "print(placaMercosul(\"ABC1X346\")) # Inválido\n",
        "print(placaMercosul(\"WXY7Z89\")) # Válido\n",
        "print(placaMercosul(\"A1B2C3D\")) # Inválido"
      ]
    }
  ]
}